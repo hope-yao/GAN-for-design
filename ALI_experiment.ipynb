{
 "cells": [
  {
   "cell_type": "code",
   "execution_count": 182,
   "metadata": {
    "collapsed": false
   },
   "outputs": [
    {
     "name": "stdout",
     "output_type": "stream",
     "text": [
      "Once deleted, variables cannot be recovered. Proceed (y/[n])? y\n"
     ]
    }
   ],
   "source": [
    "% reset\n",
    "from theano import tensor"
   ]
  },
  {
   "cell_type": "code",
   "execution_count": 4,
   "metadata": {
    "collapsed": false
   },
   "outputs": [],
   "source": [
    "x_tilde = x = tensor.zeros((10,2,32,32))\n",
    "input_x = tensor.unbroadcast(\n",
    "    tensor.concatenate([x, x_tilde], axis=0), *range(x.ndim))"
   ]
  },
  {
   "cell_type": "code",
   "execution_count": 9,
   "metadata": {
    "collapsed": false
   },
   "outputs": [
    {
     "data": {
      "text/plain": [
       "(20, 2, 32, 32)"
      ]
     },
     "execution_count": 9,
     "metadata": {},
     "output_type": "execute_result"
    }
   ],
   "source": [
    "input_x.eval().shape"
   ]
  },
  {
   "cell_type": "code",
   "execution_count": 195,
   "metadata": {
    "collapsed": false
   },
   "outputs": [],
   "source": [
    "'''loading fuel dataset'''\n",
    "# % reset\n",
    "from fuel.datasets.hdf5 import H5PYDataset\n",
    "# mnist_train = H5PYDataset('/home/hope-yao/Documents/Data/bmnist.hdf5', which_sets=('train',))\n",
    "mnist_test = H5PYDataset('/home/hope-yao/Documents/Data/rectcrs.hdf5', which_sets=('train',))"
   ]
  },
  {
   "cell_type": "code",
   "execution_count": 196,
   "metadata": {
    "collapsed": false
   },
   "outputs": [
    {
     "name": "stdout",
     "output_type": "stream",
     "text": [
      "(200, 1, 64, 64)\n"
     ]
    }
   ],
   "source": [
    "handletest = mnist_test.open()\n",
    "test_data = mnist_test.get_data(handletest, slice(0, 200))\n",
    "print((test_data[0].shape))"
   ]
  },
  {
   "cell_type": "code",
   "execution_count": 29,
   "metadata": {
    "collapsed": false
   },
   "outputs": [],
   "source": [
    "from ali.utils import get_log_odds, conv_brick, conv_transpose_brick, bn_brick\n",
    "from blocks.bricks import LeakyRectifier, Logistic\n",
    "LEAK = 0.02\n",
    "from blocks.bricks.conv import ConvolutionalSequence\n",
    "NUM_CHANNELS = 3\n",
    "IMAGE_SIZE = (64, 64)\n",
    "\n",
    "layers = [\n",
    "    conv_brick(2, 1, 64), LeakyRectifier(leak=LEAK),\n",
    "    conv_brick(7, 2, 128), bn_brick(), LeakyRectifier(leak=LEAK),\n",
    "#     conv_brick(5, 2, 256), bn_brick(), LeakyRectifier(leak=LEAK),\n",
    "#     conv_brick(7, 2, 256), bn_brick(), LeakyRectifier(leak=LEAK),\n",
    "#     conv_brick(4, 1, 512), bn_brick(), LeakyRectifier(leak=LEAK)\n",
    "    ]\n",
    "x_discriminator = ConvolutionalSequence(\n",
    "    layers=layers, num_channels=NUM_CHANNELS, image_size=IMAGE_SIZE,\n",
    "    use_bias=False, name='x_discriminator')"
   ]
  },
  {
   "cell_type": "code",
   "execution_count": 30,
   "metadata": {
    "collapsed": false
   },
   "outputs": [
    {
     "data": {
      "text/plain": [
       "(200, 128, 29, 29)"
      ]
     },
     "execution_count": 30,
     "metadata": {},
     "output_type": "execute_result"
    }
   ],
   "source": [
    "x_discriminator.apply(tensor.zeros((200,3,64,64))).eval().shape"
   ]
  },
  {
   "cell_type": "code",
   "execution_count": 183,
   "metadata": {
    "collapsed": false
   },
   "outputs": [],
   "source": [
    "import numpy as np\n",
    "import theano\n",
    "from theano import tensor\n",
    "from blocks.serialization import load\n",
    "\n",
    "nrows = 4\n",
    "ncols = 10\n",
    "with open('ali_conditional_celeba.tar', 'rb') as src:\n",
    "    main_loop = load(src)\n",
    "ali, = main_loop.model.top_bricks\n",
    "input_shape = ali.encoder.get_dim('output')"
   ]
  },
  {
   "cell_type": "code",
   "execution_count": 184,
   "metadata": {
    "collapsed": false
   },
   "outputs": [],
   "source": [
    "x = tensor.tensor4('features')\n",
    "z = tensor.tensor4('features')\n",
    "y = tensor.matrix('y')\n",
    "\n",
    "sample = theano.function([z, y], ali.decode(z, y))\n",
    "recons = theano.function([x, y], ali.reconstruct(x, y))\n",
    "# interp = theano.function([x, y], ali.decode_embedded(x, y))"
   ]
  },
  {
   "cell_type": "code",
   "execution_count": 185,
   "metadata": {
    "collapsed": false
   },
   "outputs": [],
   "source": [
    "def viz(img):\n",
    "   \n",
    "    import seaborn as sns\n",
    "    sns.set_style(\"whitegrid\", {'axes.grid' : False})\n",
    "    import matplotlib.pyplot as plt\n",
    "    plt.figure(figsize=(2.5,1.5))\n",
    "    img = np.squeeze(img)\n",
    "#     img = np.squeeze(img).swapaxes(0, 1).swapaxes(1, 2)\n",
    "    ax = plt.imshow(img)\n",
    "    plt.axis('off')\n",
    "    return ax"
   ]
  },
  {
   "cell_type": "code",
   "execution_count": 209,
   "metadata": {
    "collapsed": false
   },
   "outputs": [
    {
     "data": {
      "image/png": "[encoded data removed]",
      "text/plain": [
       "<matplotlib.figure.Figure at 0x7f79fa3c6590>"
      ]
     },
     "metadata": {},
     "output_type": "display_data"
    },
    {
     "data": {
      "text/plain": [
       "<matplotlib.image.AxesImage at 0x7f79b6722590>"
      ]
     },
     "execution_count": 209,
     "metadata": {},
     "output_type": "execute_result"
    },
    {
     "data": {
      "image/png": "[encoded data removed]",
      "text/plain": [
       "<matplotlib.figure.Figure at 0x7f79fa9c0610>"
      ]
     },
     "metadata": {},
     "output_type": "display_data"
    }
   ],
   "source": [
    "# random z, y from 000001.jpg\n",
    "% matplotlib inline\n",
    "import theano\n",
    "from theano import tensor\n",
    "from ali.streams import create_celeba_data_streams, create_crs_data_streams\n",
    "\n",
    "BATCH_SIZE = 128\n",
    "MONITORING_BATCH_SIZE = 128\n",
    "\n",
    "# streams = create_crs_data_streams(BATCH_SIZE, MONITORING_BATCH_SIZE,\n",
    "#                                      sources=('features', 'targets'))\n",
    "# main_loop_stream, train_monitor_stream, valid_monitor_stream = streams\n",
    "\n",
    "ii = 50\n",
    "x = next(main_loop_stream.get_epoch_iterator())[0][ii:ii+1]\n",
    "y = next(main_loop_stream.get_epoch_iterator())[1][ii:ii+1]\n",
    "# img = recons(x,y)\n",
    "\n",
    "xxxx = tensor.tensor4('features')\n",
    "yyyy = tensor.matrix('y')\n",
    "eeee = tensor.tensor4('e')\n",
    "# embedder = theano.function([yyyy], ali.embedder.apply(yyyy))\n",
    "embeddings = embedder(y)\n",
    "# encoder = theano.function([xxxx, eeee], ali.encoder.apply(xxxx,eeee))\n",
    "encoded = encoder(x, embeddings)\n",
    "# decoder = theano.function([xxxx, eeee], ali.decoder.apply(xxxx,eeee))\n",
    "img = decoder(encoded, embeddings)\n",
    "\n",
    "import matplotlib.pyplot as plt\n",
    "plt.figure(figsize=(2.5,1.5))\n",
    "plt.imshow(np.squeeze(x))\n",
    "plt.show()\n",
    "# img = func(encoded[1:2,:,:,:],y)\n",
    "viz(img)"
   ]
  },
  {
   "cell_type": "code",
   "execution_count": 141,
   "metadata": {
    "collapsed": false
   },
   "outputs": [
    {
     "name": "stdout",
     "output_type": "stream",
     "text": [
      "Once deleted, variables cannot be recovered. Proceed (y/[n])? y\n"
     ]
    },
    {
     "data": {
      "text/plain": [
       "(1, 1, 64, 64)"
      ]
     },
     "execution_count": 141,
     "metadata": {},
     "output_type": "execute_result"
    }
   ],
   "source": [
    "% reset\n",
    "from fuel.datasets.hdf5 import H5PYDataset\n",
    "import numpy as np\n",
    "mnist_test = H5PYDataset('/home/hope-yao/Documents/Data/rectcrs.hdf5', which_sets=('train',))\n",
    "handletest = mnist_test.open()\n",
    "x = mnist_test.get_data(handletest, slice(0, 1))\n",
    "# y = self.pre_encoder.apply(x)\n",
    "np.asarray(x[0]).shape"
   ]
  },
  {
   "cell_type": "code",
   "execution_count": 136,
   "metadata": {
    "collapsed": false
   },
   "outputs": [
    {
     "ename": "ValueError",
     "evalue": "could not broadcast input array from shape (128,3,64,64) into shape (40,3,64,64)",
     "output_type": "error",
     "traceback": [
      "\u001b[1;31m---------------------------------------------------------------------------\u001b[0m",
      "\u001b[1;31mValueError\u001b[0m                                Traceback (most recent call last)",
      "\u001b[1;32m<ipython-input-136-a9227c3cd689>\u001b[0m in \u001b[0;36m<module>\u001b[1;34m()\u001b[0m\n\u001b[0;32m     20\u001b[0m images = numpy.empty(\n\u001b[0;32m     21\u001b[0m     (2 * nrows * ncols,) + examples.shape[1:], dtype=examples.dtype)\n\u001b[1;32m---> 22\u001b[1;33m \u001b[0mimages\u001b[0m\u001b[1;33m[\u001b[0m\u001b[1;33m:\u001b[0m\u001b[1;33m:\u001b[0m\u001b[1;36m2\u001b[0m\u001b[1;33m]\u001b[0m \u001b[1;33m=\u001b[0m \u001b[0mexamples\u001b[0m\u001b[1;33m\u001b[0m\u001b[0m\n\u001b[0m\u001b[0;32m     23\u001b[0m \u001b[0mimages\u001b[0m\u001b[1;33m[\u001b[0m\u001b[1;36m1\u001b[0m\u001b[1;33m:\u001b[0m\u001b[1;33m:\u001b[0m\u001b[1;36m2\u001b[0m\u001b[1;33m]\u001b[0m \u001b[1;33m=\u001b[0m \u001b[0mreconstructions\u001b[0m\u001b[1;33m\u001b[0m\u001b[0m\n\u001b[0;32m     24\u001b[0m \u001b[1;33m\u001b[0m\u001b[0m\n",
      "\u001b[1;31mValueError\u001b[0m: could not broadcast input array from shape (128,3,64,64) into shape (40,3,64,64)"
     ]
    },
    {
     "data": {
      "image/png": "[encoded data removed]",
      "text/plain": [
       "<matplotlib.figure.Figure at 0x7f79fd3f2810>"
      ]
     },
     "metadata": {},
     "output_type": "display_data"
    }
   ],
   "source": [
    "from mpl_toolkits.axes_grid1 import ImageGrid\n",
    "import numpy\n",
    "\n",
    "# x = tensor.tensor4('features')\n",
    "# y = tensor.matrix('y')\n",
    "# # reconstructions = theano.function([x, y], ali.reconstruct(x, y))(examples, labels)\n",
    "# examples, labels = next(main_loop_stream.get_epoch_iterator())\n",
    "\n",
    "# print(\"LABELS SHAPE: \", labels.shape)\n",
    "# print(\"LABELS[0]: \", labels[0][:4])\n",
    "# embeddings = theano.function([y], ali.embed(y))(labels)\n",
    "# print(\"EMBEDDINGS SHAPE: \", embeddings.shape)\n",
    "# print(\"EMBEDDINGS[0]: \", embeddings[0][:4])\n",
    "# encoded = theano.function([x, y], ali.encode(x, y))(examples, labels)\n",
    "# print(\"ENCODED SHAPE: \", encoded.shape)\n",
    "# print(\"ENCODED[0]: \", encoded[0][:4])\n",
    "\n",
    "figure = plt.figure()\n",
    "grid = ImageGrid(figure, 111, (nrows, 2 * ncols), axes_pad=0.1)\n",
    "images = numpy.empty(\n",
    "    (2 * nrows * ncols,) + examples.shape[1:], dtype=examples.dtype)\n",
    "images[::2] = examples\n",
    "images[1::2] = reconstructions\n",
    "\n",
    "for image, axis in zip(images, grid):\n",
    "    axis.imshow(image.transpose(1, 2, 0).squeeze(),\n",
    "                cmap=cm.Greys_r, interpolation='nearest')\n",
    "    axis.set_yticklabels(['' for _ in range(image.shape[1])])\n",
    "    axis.set_xticklabels(['' for _ in range(image.shape[2])])\n",
    "    axis.axis('off')\n",
    "\n",
    "plt.show()\n"
   ]
  },
  {
   "cell_type": "code",
   "execution_count": 172,
   "metadata": {
    "collapsed": false
   },
   "outputs": [
    {
     "data": {
      "text/plain": [
       "<matplotlib.image.AxesImage at 0x7f7a093d5d10>"
      ]
     },
     "execution_count": 172,
     "metadata": {},
     "output_type": "execute_result"
    },
    {
     "data": {
      "image/png": "[encoded data removed]",
      "text/plain": [
       "<matplotlib.figure.Figure at 0x7f7a0a87b190>"
      ]
     },
     "metadata": {},
     "output_type": "display_data"
    }
   ],
   "source": [
    "# random z, y from 000001.jpg\n",
    "% matplotlib inline\n",
    "encoded = np.random.normal(size=(nrows * ncols, 256, 1, 1)).astype(np.float32)\n",
    "y = [[0,1]]\n",
    "img = sample(encoded[1:2,:,:,:],y)\n",
    "viz(img)"
   ]
  },
  {
   "cell_type": "code",
   "execution_count": 173,
   "metadata": {
    "collapsed": false
   },
   "outputs": [
    {
     "data": {
      "text/plain": [
       "<matplotlib.image.AxesImage at 0x7f79e6befcd0>"
      ]
     },
     "execution_count": 173,
     "metadata": {},
     "output_type": "execute_result"
    },
    {
     "data": {
      "image/png": "[encoded data removed]",
      "text/plain": [
       "<matplotlib.figure.Figure at 0x7f7a0a8a4e90>"
      ]
     },
     "metadata": {},
     "output_type": "display_data"
    }
   ],
   "source": [
    "# bald activated\n",
    "% matplotlib inline\n",
    "y = [[1,1]]\n",
    "img = sample(encoded[1:2,:,:,:],y)\n",
    "viz(img)"
   ]
  },
  {
   "cell_type": "code",
   "execution_count": 174,
   "metadata": {
    "collapsed": false
   },
   "outputs": [
    {
     "data": {
      "text/plain": [
       "<matplotlib.image.AxesImage at 0x7f79b9c59650>"
      ]
     },
     "execution_count": 174,
     "metadata": {},
     "output_type": "execute_result"
    },
    {
     "data": {
      "image/png": "[encoded data removed]",
      "text/plain": [
       "<matplotlib.figure.Figure at 0x7f79f59d68d0>"
      ]
     },
     "metadata": {},
     "output_type": "display_data"
    }
   ],
   "source": [
    "# black hair activated\n",
    "% matplotlib inline\n",
    "y = [[1,0]]\n",
    "img = sample(encoded[1:2,:,:,:],y)\n",
    "viz(img)"
   ]
  },
  {
   "cell_type": "code",
   "execution_count": 175,
   "metadata": {
    "collapsed": false
   },
   "outputs": [
    {
     "data": {
      "image/png": "[encoded data removed]",
      "text/plain": [
       "<matplotlib.figure.Figure at 0x7f7a07b42f90>"
      ]
     },
     "metadata": {},
     "output_type": "display_data"
    }
   ],
   "source": [
    "# black hair activated\n",
    "% matplotlib inline\n",
    "y = [[0,0]]\n",
    "img = sample(encoded[21:22,:,:,:],y)\n",
    "ax = viz(img)"
   ]
  },
  {
   "cell_type": "code",
   "execution_count": 176,
   "metadata": {
    "collapsed": false
   },
   "outputs": [
    {
     "ename": "IndexError",
     "evalue": "list assignment index out of range",
     "output_type": "error",
     "traceback": [
      "\u001b[1;31m---------------------------------------------------------------------------\u001b[0m",
      "\u001b[1;31mIndexError\u001b[0m                                Traceback (most recent call last)",
      "\u001b[1;32m<ipython-input-176-dac71508d3c1>\u001b[0m in \u001b[0;36m<module>\u001b[1;34m()\u001b[0m\n\u001b[0;32m      2\u001b[0m \u001b[0mget_ipython\u001b[0m\u001b[1;33m(\u001b[0m\u001b[1;33m)\u001b[0m\u001b[1;33m.\u001b[0m\u001b[0mmagic\u001b[0m\u001b[1;33m(\u001b[0m\u001b[1;34mu'matplotlib inline'\u001b[0m\u001b[1;33m)\u001b[0m\u001b[1;33m\u001b[0m\u001b[0m\n\u001b[0;32m      3\u001b[0m \u001b[0myy\u001b[0m \u001b[1;33m=\u001b[0m \u001b[0my\u001b[0m\u001b[1;33m\u001b[0m\u001b[0m\n\u001b[1;32m----> 4\u001b[1;33m \u001b[0myy\u001b[0m\u001b[1;33m[\u001b[0m\u001b[1;36m0\u001b[0m\u001b[1;33m]\u001b[0m\u001b[1;33m[\u001b[0m\u001b[1;36m20\u001b[0m\u001b[1;33m]\u001b[0m \u001b[1;33m=\u001b[0m \u001b[1;36m1\u001b[0m\u001b[1;33m\u001b[0m\u001b[0m\n\u001b[0m\u001b[0;32m      5\u001b[0m \u001b[0mimg\u001b[0m \u001b[1;33m=\u001b[0m \u001b[0mfunc\u001b[0m\u001b[1;33m(\u001b[0m\u001b[0mencoded\u001b[0m\u001b[1;33m[\u001b[0m\u001b[1;36m1\u001b[0m\u001b[1;33m:\u001b[0m\u001b[1;36m2\u001b[0m\u001b[1;33m,\u001b[0m\u001b[1;33m:\u001b[0m\u001b[1;33m,\u001b[0m\u001b[1;33m:\u001b[0m\u001b[1;33m,\u001b[0m\u001b[1;33m:\u001b[0m\u001b[1;33m]\u001b[0m\u001b[1;33m,\u001b[0m\u001b[0myy\u001b[0m\u001b[1;33m)\u001b[0m\u001b[1;33m\u001b[0m\u001b[0m\n\u001b[0;32m      6\u001b[0m \u001b[0mviz\u001b[0m\u001b[1;33m(\u001b[0m\u001b[0mimg\u001b[0m\u001b[1;33m)\u001b[0m\u001b[1;33m\u001b[0m\u001b[0m\n",
      "\u001b[1;31mIndexError\u001b[0m: list assignment index out of range"
     ]
    }
   ],
   "source": [
    "# black hair activated\n",
    "% matplotlib inline\n",
    "yy = y\n",
    "yy[0][20] = 1\n",
    "img = func(encoded[1:2,:,:,:],yy)\n",
    "viz(img)"
   ]
  },
  {
   "cell_type": "code",
   "execution_count": 14,
   "metadata": {
    "collapsed": false
   },
   "outputs": [
    {
     "data": {
      "text/plain": [
       "(128, 40)"
      ]
     },
     "execution_count": 14,
     "metadata": {},
     "output_type": "execute_result"
    }
   ],
   "source": [
    "# %reset\n",
    "from ali.streams import create_celeba_data_streams, create_crs_data_streams\n",
    "\n",
    "BATCH_SIZE = 128\n",
    "MONITORING_BATCH_SIZE = 128\n",
    "\n",
    "streams = create_crs_data_streams(BATCH_SIZE, MONITORING_BATCH_SIZE,\n",
    "                                     sources=('features', 'targets'))\n",
    "main_loop_stream1, train_monitor_stream, valid_monitor_stream = streams\n",
    "# bn_monitored_variables = (\n",
    "#     [v for v in bn_model.auxiliary_variables if 'norm' not in v.name] +\n",
    "#     bn_model.outputs)\n",
    "next(main_loop_stream1.get_epoch_iterator())[1].shape"
   ]
  },
  {
   "cell_type": "code",
   "execution_count": 15,
   "metadata": {
    "collapsed": false
   },
   "outputs": [
    {
     "data": {
      "text/plain": [
       "(128, 40)"
      ]
     },
     "execution_count": 15,
     "metadata": {},
     "output_type": "execute_result"
    }
   ],
   "source": [
    "# %reset\n",
    "from ali.streams import create_celeba_data_streams, create_crs_data_streams\n",
    "\n",
    "BATCH_SIZE = 128\n",
    "MONITORING_BATCH_SIZE = 128\n",
    "\n",
    "streams = create_celeba_data_streams(BATCH_SIZE, MONITORING_BATCH_SIZE,\n",
    "                                     sources=('features', 'targets'))\n",
    "main_loop_stream, train_monitor_stream, valid_monitor_stream = streams\n",
    "# bn_monitored_variables = (\n",
    "#     [v for v in bn_model.auxiliary_variables if 'norm' not in v.name] +\n",
    "#     bn_model.outputs)\n",
    "next(main_loop_stream.get_epoch_iterator())[1].shape"
   ]
  },
  {
   "cell_type": "code",
   "execution_count": 45,
   "metadata": {
    "collapsed": false
   },
   "outputs": [
    {
     "data": {
      "text/plain": [
       "(array([[[[ 0.00392157,  0.00392157,  0.00392157, ...,  0.00392157,\n",
       "            0.00392157,  0.00392157],\n",
       "          [ 0.00392157,  0.00392157,  0.00392157, ...,  0.00392157,\n",
       "            0.00392157,  0.00392157],\n",
       "          [ 0.00392157,  0.00392157,  0.00392157, ...,  0.00392157,\n",
       "            0.00392157,  0.00392157],\n",
       "          ..., \n",
       "          [ 0.24313726,  0.23137255,  0.24705882, ...,  0.38039216,\n",
       "            0.37254903,  0.39215687],\n",
       "          [ 0.25098041,  0.25098041,  0.25098041, ...,  0.36470589,\n",
       "            0.33725491,  0.32941177],\n",
       "          [ 0.27058825,  0.25882354,  0.25882354, ...,  0.42352942,\n",
       "            0.41568628,  0.40392157]],\n",
       " \n",
       "         [[ 0.        ,  0.        ,  0.        , ...,  0.        ,\n",
       "            0.        ,  0.        ],\n",
       "          [ 0.        ,  0.        ,  0.        , ...,  0.        ,\n",
       "            0.        ,  0.        ],\n",
       "          [ 0.        ,  0.        ,  0.        , ...,  0.        ,\n",
       "            0.        ,  0.        ],\n",
       "          ..., \n",
       "          [ 0.28627452,  0.27058825,  0.29019609, ...,  0.41568628,\n",
       "            0.40392157,  0.42745098],\n",
       "          [ 0.27843139,  0.28235295,  0.27843139, ...,  0.41568628,\n",
       "            0.3882353 ,  0.38431373],\n",
       "          [ 0.3019608 ,  0.29411766,  0.29019609, ...,  0.47058824,\n",
       "            0.4627451 ,  0.4509804 ]],\n",
       " \n",
       "         [[ 0.01960784,  0.01960784,  0.01960784, ...,  0.01960784,\n",
       "            0.01960784,  0.01960784],\n",
       "          [ 0.01960784,  0.01960784,  0.01960784, ...,  0.01960784,\n",
       "            0.01960784,  0.01960784],\n",
       "          [ 0.01960784,  0.01960784,  0.01960784, ...,  0.01960784,\n",
       "            0.01960784,  0.01960784],\n",
       "          ..., \n",
       "          [ 0.35294119,  0.34117648,  0.36078432, ...,  0.48627451,\n",
       "            0.47450981,  0.49411765],\n",
       "          [ 0.36470589,  0.36470589,  0.36470589, ...,  0.48235294,\n",
       "            0.45490196,  0.4509804 ],\n",
       "          [ 0.3882353 ,  0.38039216,  0.3764706 , ...,  0.53725493,\n",
       "            0.52941179,  0.52156866]]],\n",
       " \n",
       " \n",
       "        [[[ 0.36470589,  0.36470589,  0.36470589, ...,  0.49803922,\n",
       "            0.4509804 ,  0.39607844],\n",
       "          [ 0.36470589,  0.36470589,  0.36470589, ...,  0.45490196,\n",
       "            0.49411765,  0.43529412],\n",
       "          [ 0.36470589,  0.36470589,  0.36470589, ...,  0.38431373,\n",
       "            0.52156866,  0.47058824],\n",
       "          ..., \n",
       "          [ 0.95294118,  0.95686275,  0.95294118, ...,  0.75294119,\n",
       "            0.76078433,  0.77254903],\n",
       "          [ 0.92156863,  0.94117647,  0.94509804, ...,  0.74117649,\n",
       "            0.74509805,  0.76078433],\n",
       "          [ 0.89803922,  0.92156863,  0.94117647, ...,  0.73725492,\n",
       "            0.73725492,  0.74509805]],\n",
       " \n",
       "         [[ 0.32941177,  0.32941177,  0.32941177, ...,  0.09411765,\n",
       "            0.0627451 ,  0.05882353],\n",
       "          [ 0.32941177,  0.32941177,  0.32941177, ...,  0.1254902 ,\n",
       "            0.07843138,  0.07450981],\n",
       "          [ 0.32941177,  0.32941177,  0.32941177, ...,  0.14509805,\n",
       "            0.09803922,  0.07450981],\n",
       "          ..., \n",
       "          [ 0.64313728,  0.65490198,  0.67450982, ...,  0.46666667,\n",
       "            0.47450981,  0.48235294],\n",
       "          [ 0.61960787,  0.63921571,  0.65882355, ...,  0.47058824,\n",
       "            0.47450981,  0.47058824],\n",
       "          [ 0.58823532,  0.61960787,  0.65098041, ...,  0.46666667,\n",
       "            0.46666667,  0.45882353]],\n",
       " \n",
       "         [[ 0.17647059,  0.17647059,  0.17647059, ...,  0.12156863,\n",
       "            0.05490196,  0.04705882],\n",
       "          [ 0.17647059,  0.17647059,  0.17647059, ...,  0.13333334,\n",
       "            0.07450981,  0.0627451 ],\n",
       "          [ 0.17647059,  0.17647059,  0.17647059, ...,  0.1254902 ,\n",
       "            0.10588235,  0.07450981],\n",
       "          ..., \n",
       "          [ 0.43529412,  0.45882353,  0.48627451, ...,  0.24313726,\n",
       "            0.24705882,  0.26666668],\n",
       "          [ 0.40392157,  0.43137255,  0.45490196, ...,  0.25490198,\n",
       "            0.25882354,  0.26666668],\n",
       "          [ 0.36862746,  0.40392157,  0.44313726, ...,  0.25098041,\n",
       "            0.25098041,  0.25098041]]],\n",
       " \n",
       " \n",
       "        [[[ 0.05882353,  0.05490196,  0.05490196, ...,  0.09803922,\n",
       "            0.09411765,  0.07058824],\n",
       "          [ 0.0627451 ,  0.05490196,  0.05098039, ...,  0.08235294,\n",
       "            0.09019608,  0.07843138],\n",
       "          [ 0.05098039,  0.05490196,  0.0627451 , ...,  0.07058824,\n",
       "            0.07843138,  0.07843138],\n",
       "          ..., \n",
       "          [ 0.14509805,  0.17647059,  0.17647059, ...,  0.00392157,\n",
       "            0.03921569,  0.05490196],\n",
       "          [ 0.19215687,  0.23137255,  0.19215687, ...,  0.        ,\n",
       "            0.01960784,  0.05098039],\n",
       "          [ 0.20392157,  0.20784314,  0.14117648, ...,  0.        ,\n",
       "            0.01960784,  0.0627451 ]],\n",
       " \n",
       "         [[ 0.06666667,  0.0627451 ,  0.0627451 , ...,  0.11764706,\n",
       "            0.11372549,  0.09019608],\n",
       "          [ 0.07058824,  0.0627451 ,  0.05882353, ...,  0.10196079,\n",
       "            0.10980392,  0.09803922],\n",
       "          [ 0.05882353,  0.0627451 ,  0.07058824, ...,  0.09019608,\n",
       "            0.09803922,  0.09803922],\n",
       "          ..., \n",
       "          [ 0.13333334,  0.16862746,  0.16862746, ...,  0.00784314,\n",
       "            0.04313726,  0.05882353],\n",
       "          [ 0.16078432,  0.20784314,  0.1882353 , ...,  0.00784314,\n",
       "            0.04313726,  0.0627451 ],\n",
       "          [ 0.18039216,  0.19215687,  0.13333334, ...,  0.00784314,\n",
       "            0.04313726,  0.07450981]],\n",
       " \n",
       "         [[ 0.04705882,  0.04313726,  0.04313726, ...,  0.09411765,\n",
       "            0.09019608,  0.06666667],\n",
       "          [ 0.05098039,  0.04313726,  0.03921569, ...,  0.07843138,\n",
       "            0.08627451,  0.07450981],\n",
       "          [ 0.03921569,  0.04313726,  0.05098039, ...,  0.06666667,\n",
       "            0.07450981,  0.07450981],\n",
       "          ..., \n",
       "          [ 0.06666667,  0.09019608,  0.07843138, ...,  0.00392157,\n",
       "            0.02745098,  0.03921569],\n",
       "          [ 0.08235294,  0.13333334,  0.11764706, ...,  0.00392157,\n",
       "            0.05098039,  0.05098039],\n",
       "          [ 0.10196079,  0.12156863,  0.06666667, ...,  0.        ,\n",
       "            0.03921569,  0.05882353]]],\n",
       " \n",
       " \n",
       "        ..., \n",
       "        [[[ 0.86666667,  0.84705883,  0.81568629, ...,  0.9137255 ,\n",
       "            0.58823532,  0.37254903],\n",
       "          [ 0.88627452,  0.84705883,  0.78823531, ...,  0.72549021,\n",
       "            0.39215687,  0.37254903],\n",
       "          [ 0.70588237,  0.66274512,  0.57254905, ...,  0.47843137,\n",
       "            0.3764706 ,  0.39215687],\n",
       "          ..., \n",
       "          [ 0.90196079,  0.89803922,  0.93725491, ...,  0.36862746,\n",
       "            0.56862748,  0.83529413],\n",
       "          [ 0.94509804,  0.8509804 ,  0.4627451 , ...,  0.35686275,\n",
       "            0.29019609,  0.42745098],\n",
       "          [ 0.5529412 ,  0.16470589,  0.        , ...,  0.35294119,\n",
       "            0.3764706 ,  0.36078432]],\n",
       " \n",
       "         [[ 0.94509804,  0.94117647,  0.95686275, ...,  0.94117647,\n",
       "            0.85882354,  0.79607844],\n",
       "          [ 0.95686275,  0.94901961,  0.93725491, ...,  0.87450981,\n",
       "            0.80784315,  0.83529413],\n",
       "          [ 0.79607844,  0.79607844,  0.75294119, ...,  0.78431374,\n",
       "            0.82352942,  0.82352942],\n",
       "          ..., \n",
       "          [ 0.89411765,  0.92941177,  1.        , ...,  0.80000001,\n",
       "            0.83137256,  0.92156863],\n",
       "          [ 0.98039216,  0.88627452,  0.49411765, ...,  0.81960785,\n",
       "            0.83529413,  0.81176472],\n",
       "          [ 0.57254905,  0.18431373,  0.01960784, ...,  0.82745099,\n",
       "            0.81568629,  0.82352942]],\n",
       " \n",
       "         [[ 0.85490197,  0.93333334,  0.97647059, ...,  0.96862745,\n",
       "            0.85882354,  0.80392158],\n",
       "          [ 0.89803922,  0.91764706,  0.93725491, ...,  0.90588236,\n",
       "            0.8509804 ,  0.86666667],\n",
       "          [ 0.72549021,  0.71372551,  0.71764708, ...,  0.81568629,\n",
       "            0.87450981,  0.86274511],\n",
       "          ..., \n",
       "          [ 0.91764706,  0.94117647,  1.        , ...,  0.81176472,\n",
       "            0.8509804 ,  0.96470588],\n",
       "          [ 0.97647059,  0.88235295,  0.48627451, ...,  0.8509804 ,\n",
       "            0.84705883,  0.8392157 ],\n",
       "          [ 0.57254905,  0.18431373,  0.01960784, ...,  0.85882354,\n",
       "            0.85882354,  0.83529413]]],\n",
       " \n",
       " \n",
       "        [[[ 0.18039216,  0.18431373,  0.17647059, ...,  0.08235294,\n",
       "            0.09803922,  0.10588235],\n",
       "          [ 0.17647059,  0.17647059,  0.16078432, ...,  0.10588235,\n",
       "            0.11372549,  0.11764706],\n",
       "          [ 0.16862746,  0.15686275,  0.14509805, ...,  0.16078432,\n",
       "            0.15294118,  0.14117648],\n",
       "          ..., \n",
       "          [ 0.1882353 ,  0.22745098,  0.24705882, ...,  0.24705882,\n",
       "            0.24313726,  0.25098041],\n",
       "          [ 0.22352941,  0.23137255,  0.29411766, ...,  0.25098041,\n",
       "            0.25098041,  0.27450982],\n",
       "          [ 0.29803923,  0.35294119,  0.38431373, ...,  0.24313726,\n",
       "            0.25098041,  0.27843139]],\n",
       " \n",
       "         [[ 0.15686275,  0.16470589,  0.15686275, ...,  0.07843138,\n",
       "            0.09019608,  0.10588235],\n",
       "          [ 0.15686275,  0.16078432,  0.15294118, ...,  0.10196079,\n",
       "            0.10588235,  0.11764706],\n",
       "          [ 0.15294118,  0.14509805,  0.14117648, ...,  0.15686275,\n",
       "            0.14901961,  0.14117648],\n",
       "          ..., \n",
       "          [ 0.19607843,  0.21176471,  0.18431373, ...,  0.23137255,\n",
       "            0.23137255,  0.22745098],\n",
       "          [ 0.21568628,  0.18431373,  0.18039216, ...,  0.23137255,\n",
       "            0.23137255,  0.24313726],\n",
       "          [ 0.24705882,  0.26666668,  0.23921569, ...,  0.21960784,\n",
       "            0.22352941,  0.25098041]],\n",
       " \n",
       "         [[ 0.1254902 ,  0.13725491,  0.14117648, ...,  0.07450981,\n",
       "            0.09411765,  0.10196079],\n",
       "          [ 0.14117648,  0.14509805,  0.14117648, ...,  0.09411765,\n",
       "            0.10196079,  0.10980392],\n",
       "          [ 0.15294118,  0.14509805,  0.14117648, ...,  0.14117648,\n",
       "            0.13725491,  0.12941177],\n",
       "          ..., \n",
       "          [ 0.13725491,  0.15686275,  0.14117648, ...,  0.14117648,\n",
       "            0.13725491,  0.13333334],\n",
       "          [ 0.14117648,  0.12156863,  0.14117648, ...,  0.15686275,\n",
       "            0.14509805,  0.15686275],\n",
       "          [ 0.19215687,  0.22352941,  0.20784314, ...,  0.14509805,\n",
       "            0.14117648,  0.15294118]]],\n",
       " \n",
       " \n",
       "        [[[ 0.01568628,  0.01568628,  0.01568628, ...,  0.02352941,\n",
       "            0.02352941,  0.02352941],\n",
       "          [ 0.01568628,  0.01568628,  0.01568628, ...,  0.02352941,\n",
       "            0.02352941,  0.02352941],\n",
       "          [ 0.01568628,  0.01568628,  0.01568628, ...,  0.02352941,\n",
       "            0.02352941,  0.02352941],\n",
       "          ..., \n",
       "          [ 0.84313726,  0.81960785,  0.79215688, ...,  0.19215687,\n",
       "            0.19215687,  0.22745098],\n",
       "          [ 0.58823532,  0.56078434,  0.53333336, ...,  0.20784314,\n",
       "            0.1882353 ,  0.17647059],\n",
       "          [ 0.48235294,  0.48235294,  0.48627451, ...,  0.19215687,\n",
       "            0.17647059,  0.16470589]],\n",
       " \n",
       "         [[ 0.01176471,  0.01176471,  0.01176471, ...,  0.00784314,\n",
       "            0.00784314,  0.00784314],\n",
       "          [ 0.01176471,  0.01176471,  0.01176471, ...,  0.00784314,\n",
       "            0.00784314,  0.00784314],\n",
       "          [ 0.01176471,  0.01176471,  0.01176471, ...,  0.00784314,\n",
       "            0.00784314,  0.00784314],\n",
       "          ..., \n",
       "          [ 0.84313726,  0.81960785,  0.79215688, ...,  0.19607843,\n",
       "            0.19607843,  0.23137255],\n",
       "          [ 0.60000002,  0.57647061,  0.54509807, ...,  0.2       ,\n",
       "            0.18431373,  0.17647059],\n",
       "          [ 0.49411765,  0.49411765,  0.49803922, ...,  0.1882353 ,\n",
       "            0.17647059,  0.16470589]],\n",
       " \n",
       "         [[ 0.00392157,  0.00392157,  0.00392157, ...,  0.        ,\n",
       "            0.        ,  0.        ],\n",
       "          [ 0.00392157,  0.00392157,  0.00392157, ...,  0.        ,\n",
       "            0.        ,  0.        ],\n",
       "          [ 0.00392157,  0.00392157,  0.00392157, ...,  0.        ,\n",
       "            0.        ,  0.        ],\n",
       "          ..., \n",
       "          [ 0.72549021,  0.7019608 ,  0.67450982, ...,  0.17647059,\n",
       "            0.16078432,  0.1882353 ],\n",
       "          [ 0.49411765,  0.47058824,  0.43921569, ...,  0.19215687,\n",
       "            0.16078432,  0.14901961],\n",
       "          [ 0.38431373,  0.3882353 ,  0.39215687, ...,  0.17647059,\n",
       "            0.14509805,  0.14509805]]]], dtype=float32),\n",
       " array([[0, 0, 0, ..., 0, 0, 1],\n",
       "        [0, 1, 1, ..., 1, 0, 1],\n",
       "        [0, 0, 0, ..., 0, 0, 0],\n",
       "        ..., \n",
       "        [0, 0, 1, ..., 1, 0, 0],\n",
       "        [0, 0, 0, ..., 0, 0, 1],\n",
       "        [1, 0, 0, ..., 0, 0, 1]], dtype=uint8))"
      ]
     },
     "execution_count": 45,
     "metadata": {},
     "output_type": "execute_result"
    }
   ],
   "source": [
    "next(main_loop_stream.get_epoch_iterator())"
   ]
  },
  {
   "cell_type": "code",
   "execution_count": 33,
   "metadata": {
    "collapsed": false
   },
   "outputs": [
    {
     "data": {
      "text/plain": [
       "['__abstractmethods__',\n",
       " '__class__',\n",
       " '__delattr__',\n",
       " '__dict__',\n",
       " '__doc__',\n",
       " '__format__',\n",
       " '__getattribute__',\n",
       " '__hash__',\n",
       " '__init__',\n",
       " '__module__',\n",
       " '__new__',\n",
       " '__reduce__',\n",
       " '__reduce_ex__',\n",
       " '__repr__',\n",
       " '__setattr__',\n",
       " '__sizeof__',\n",
       " '__str__',\n",
       " '__subclasshook__',\n",
       " '__weakref__',\n",
       " '_abc_cache',\n",
       " '_abc_negative_cache',\n",
       " '_abc_negative_cache_version',\n",
       " '_abc_registry',\n",
       " '_apply_sourcewise_transformation',\n",
       " '_produces_examples',\n",
       " 'axis_labels',\n",
       " 'child_epoch_iterator',\n",
       " 'close',\n",
       " 'data_stream',\n",
       " 'get_data',\n",
       " 'get_epoch_iterator',\n",
       " 'iterate_epochs',\n",
       " 'iteration_scheme',\n",
       " 'next_epoch',\n",
       " 'produces_examples',\n",
       " 'reset',\n",
       " 'scale',\n",
       " 'shift',\n",
       " 'sources',\n",
       " 'transform_any',\n",
       " 'transform_any_source',\n",
       " 'transform_batch',\n",
       " 'transform_example',\n",
       " 'transform_source_batch',\n",
       " 'transform_source_example',\n",
       " 'which_sources']"
      ]
     },
     "execution_count": 33,
     "metadata": {},
     "output_type": "execute_result"
    }
   ],
   "source": [
    "dir(main_loop_stream1.data_stream)"
   ]
  }
 ],
 "metadata": {
  "kernelspec": {
   "display_name": "Python [Root]",
   "language": "python",
   "name": "Python [Root]"
  },
  "language_info": {
   "codemirror_mode": {
    "name": "ipython",
    "version": 2
   },
   "file_extension": ".py",
   "mimetype": "text/x-python",
   "name": "python",
   "nbconvert_exporter": "python",
   "pygments_lexer": "ipython2",
   "version": "2.7.12"
  }
 },
 "nbformat": 4,
 "nbformat_minor": 0
}
